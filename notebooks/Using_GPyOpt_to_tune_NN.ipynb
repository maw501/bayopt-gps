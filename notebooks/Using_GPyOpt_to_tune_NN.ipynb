{
 "cells": [
  {
   "cell_type": "markdown",
   "metadata": {},
   "source": [
    "## Overview"
   ]
  },
  {
   "cell_type": "markdown",
   "metadata": {},
   "source": [
    "In this notebook we will walk through the MNIST example and show how to use GPyOpt to tune a NN in PyTorch."
   ]
  },
  {
   "cell_type": "code",
   "execution_count": 11,
   "metadata": {
    "scrolled": true
   },
   "outputs": [
    {
     "name": "stdout",
     "output_type": "stream",
     "text": [
      "GeForce GTX 1080 Ti\n"
     ]
    }
   ],
   "source": [
    "import sys\n",
    "sys.path.append(\"..\") # adds higher directory to python modules path\n",
    "from GPyOpt.methods import BayesianOptimization\n",
    "import GPyOpt\n",
    "import torch\n",
    "import torch.nn.functional as F\n",
    "import torch.nn as nn\n",
    "from torch import optim\n",
    "import torchvision\n",
    "import numpy as np\n",
    "from src import data_prep as dp\n",
    "from src import models as m\n",
    "from src import train as train\n",
    "from src import utils as utils\n",
    "from src import plotting as plotting\n",
    "dev = torch.device(\"cuda\") if torch.cuda.is_available() else torch.device(\"cpu\")\n",
    "print(torch.cuda.get_device_name(torch.cuda.current_device()))"
   ]
  },
  {
   "cell_type": "markdown",
   "metadata": {},
   "source": [
    "## Prerequisites\n",
    "\n",
    "The aim of this notebook is to provide a practical example of how to use GPyOpt for tuning a NN - not to motivate and introduce background concepts. However, as a minimum, it is helpful to be familiar with the following areas:\n",
    "\n",
    "* Gaussian processes\n",
    "* Acquisition functions\n",
    "* Kernels\n",
    "* Neural networks"
   ]
  },
  {
   "cell_type": "markdown",
   "metadata": {},
   "source": [
    "## Parameters to optimize\n",
    "\n",
    "With GPyOpt we can basically optimize most types of parameters, including discrete and categorical. This allows great flexibility when fitting a NN though I can't find any strong references backing this up (particularly the categorical) and so I'm unsure how well it will work in practice.\n",
    "\n",
    "For MNIST, given it's a small and easy data-set and I'm using a GPU we will go for quite a large domain. A simpler case would be to fix the model architecture (e.g. use a pre-trained model) and just let GPyOpt tune the hyperparameters. It's worth noting that if we did grid search on 8 parameters (as we are below) and each of those parameters could take on just 4 values we'd have $4^8$ possible values to try. \n",
    "\n",
    "Here we are going to let the BO actually vary the model's capacity via `num_lay`, `num_c` and `num_fc` which control the number of layers in the CNN, the number of channels (doubled at each layer by default) and the size of the fully connected layer at the end.\n",
    "\n",
    "Below is an example of how we specify this to GPyOpt."
   ]
  },
  {
   "cell_type": "code",
   "execution_count": 3,
   "metadata": {},
   "outputs": [],
   "source": [
    "opt_BO = [{'name': 'lr', 'type': 'continuous', 'domain': (0.05, 0.25)},\n",
    "          {'name': 'mom', 'type': 'continuous', 'domain': (0.85, 0.95)},\n",
    "          {'name': 'num_lay', 'type': 'discrete', 'domain': range(1, 4)},\n",
    "          {'name': 'num_c', 'type': 'discrete', 'domain': range(8, 22, 2)},\n",
    "          {'name': 'num_fc', 'type': 'discrete', 'domain': range(10, 105, 5)},\n",
    "          {'name': 'dropout', 'type': 'discrete', 'domain': np.linspace(0, 0.4, 11)},\n",
    "          {'name': 'bs', 'type': 'discrete', 'domain': range(64, 288, 32)},\n",
    "          ]"
   ]
  },
  {
   "cell_type": "markdown",
   "metadata": {},
   "source": [
    "## Model\n",
    "\n",
    "Let's have a look at a simple CNN for MNIST. The model itself will be straightforward but we use a few neats aspects of PyTorch to allow us to vary the number of layers e.g. via `nn.ModuleList`\n",
    "\n",
    "We are using a `kernel_size=5` so with the default values of `padding=0` and `stride=1` the feature map will reduce by 4 each time we call `ConvBnRelu`. We also opt for a convention of doubling the number of channels at each layer."
   ]
  },
  {
   "cell_type": "code",
   "execution_count": 4,
   "metadata": {},
   "outputs": [],
   "source": [
    "class ConvBnRelu(nn.Module):\n",
    "    \"\"\"Re-usable building block implementing 2d conv layer with batch-norm and relu activation\"\"\"\n",
    "    def __init__(self, in_channels, out_channels, p):\n",
    "        super().__init__()\n",
    "        self.conv = nn.Sequential(nn.Conv2d(in_channels, out_channels, kernel_size=5),  # reduces feature map by 4\n",
    "                                  nn.BatchNorm2d(out_channels),\n",
    "                                  nn.Dropout2d(p=p, inplace=True),\n",
    "                                  nn.ReLU(inplace=True)\n",
    "                                  )\n",
    "\n",
    "    def forward(self, x):\n",
    "        return self.conv(x)\n",
    "\n",
    "class FlexCNN(nn.Module):\n",
    "    \"\"\"Simple CNN with flexible capacity\"\"\"\n",
    "    def __init__(self, n_lay=2, n_c=16, n_fc=25, dropout=0.1, hw=(28,28)):\n",
    "        super().__init__()\n",
    "        self.name = 'flex_cnn'\n",
    "        self.init_args = {'n_lay':n_lay, 'n_c':n_c, 'n_fc':n_fc}  # for loading back model with correct size\n",
    "        self.h, self.w = hw\n",
    "        self.out_hw = self.h - (n_lay + 1) * 4\n",
    "        self.out_c = n_c * (2 ** n_lay)\n",
    "        self.convs = nn.ModuleList([ConvBnRelu(1, n_c, dropout)])\n",
    "        self.convs.extend([ConvBnRelu((2 ** (i - 1)) * n_c, (2 ** i) * n_c, dropout) for i in range(1, n_lay + 1)])\n",
    "        self.fc1 = nn.Linear(self.out_c * (self.out_hw ** 2), n_fc * 2)\n",
    "        self.fc2 = nn.Linear(n_fc * 2, 10)\n",
    "\n",
    "    def forward(self, x):\n",
    "        bs = x.shape[0]\n",
    "        x = x.view(-1, 1, self.h, self.w)\n",
    "        for i, l in enumerate(self.convs):\n",
    "            x = self.convs[i](x)\n",
    "        x = x.view(bs, -1)\n",
    "        x = F.relu(self.fc1(x))\n",
    "        x = self.fc2(x)\n",
    "        return x"
   ]
  },
  {
   "cell_type": "markdown",
   "metadata": {},
   "source": [
    "Let's instantiate the model and take a look:"
   ]
  },
  {
   "cell_type": "code",
   "execution_count": 5,
   "metadata": {},
   "outputs": [
    {
     "data": {
      "text/plain": [
       "FlexCNN(\n",
       "  (convs): ModuleList(\n",
       "    (0): ConvBnRelu(\n",
       "      (conv): Sequential(\n",
       "        (0): Conv2d(1, 16, kernel_size=(5, 5), stride=(1, 1))\n",
       "        (1): BatchNorm2d(16, eps=1e-05, momentum=0.1, affine=True, track_running_stats=True)\n",
       "        (2): Dropout2d(p=0.1, inplace)\n",
       "        (3): ReLU(inplace)\n",
       "      )\n",
       "    )\n",
       "    (1): ConvBnRelu(\n",
       "      (conv): Sequential(\n",
       "        (0): Conv2d(16, 32, kernel_size=(5, 5), stride=(1, 1))\n",
       "        (1): BatchNorm2d(32, eps=1e-05, momentum=0.1, affine=True, track_running_stats=True)\n",
       "        (2): Dropout2d(p=0.1, inplace)\n",
       "        (3): ReLU(inplace)\n",
       "      )\n",
       "    )\n",
       "    (2): ConvBnRelu(\n",
       "      (conv): Sequential(\n",
       "        (0): Conv2d(32, 64, kernel_size=(5, 5), stride=(1, 1))\n",
       "        (1): BatchNorm2d(64, eps=1e-05, momentum=0.1, affine=True, track_running_stats=True)\n",
       "        (2): Dropout2d(p=0.1, inplace)\n",
       "        (3): ReLU(inplace)\n",
       "      )\n",
       "    )\n",
       "  )\n",
       "  (fc1): Linear(in_features=16384, out_features=50, bias=True)\n",
       "  (fc2): Linear(in_features=50, out_features=10, bias=True)\n",
       ")"
      ]
     },
     "execution_count": 5,
     "metadata": {},
     "output_type": "execute_result"
    }
   ],
   "source": [
    "model = m.FlexCNN()\n",
    "model"
   ]
  },
  {
   "cell_type": "markdown",
   "metadata": {},
   "source": [
    "## Objective function\n",
    "\n",
    "It's actually fairly simple to get up and running with GPyOpt. The main function (and work) is to create an objective function that GPyOpt will either minimize or maximize.\n",
    "\n",
    "The function doesn't need to do the data-loading unless parameters we wish to vary are part of the data-loading process (e.g. batch size).\n",
    "\n",
    "Below we show a simple function that wraps up the data-loading and model fit. `WrapDL` is a simple class which applies a (pre-processing) function to each mini-batch as it is yielded by PyTorch.\n",
    "\n",
    "We then instantiate and fit the model, passing in the parameters we wish to optimize over. The `train.fit` function takes a model and fits it for a given number of epochs."
   ]
  },
  {
   "cell_type": "code",
   "execution_count": 15,
   "metadata": {},
   "outputs": [],
   "source": [
    "@utils.call_counter\n",
    "def f_opt_mnist(parameters):\n",
    "    parameters = parameters[0]  # np.ndarray passed in is nested\n",
    "    print(f'---------Starting Bay opt call {f_opt_mnist.calls} with parameters: ---------')\n",
    "    utils.print_params(parameters, opt_BO)\n",
    "    # Data loading:\n",
    "    trainset = torchvision.datasets.MNIST(root='../data', train=True, download=True, transform=dp.mnist_transform)\n",
    "    trainloader = torch.utils.data.DataLoader(trainset, batch_size=int(parameters[6]), shuffle=True, num_workers=8)\n",
    "    testset = torchvision.datasets.MNIST(root='../data', train=False, download=True, transform=dp.mnist_transform)\n",
    "    testloader = torch.utils.data.DataLoader(testset, batch_size=int(parameters[6]), shuffle=False, num_workers=8)\n",
    "    train_dl, valid_dl = dp.WrapDL(trainloader, dp.to_gpu), dp.WrapDL(testloader, dp.to_gpu)\n",
    "\n",
    "    # Model definition:\n",
    "    model = m.FlexCNN(n_lay=int(parameters[2]),\n",
    "                        n_c=int(parameters[3]),\n",
    "                        n_fc=int(parameters[4]),\n",
    "                        dropout=parameters[5])\n",
    "    model.to(dev)\n",
    "    # Optimizer:\n",
    "    opt = optim.SGD(model.parameters(), lr=parameters[0], momentum=parameters[1])\n",
    "    scheduler = optim.lr_scheduler.CyclicLR(opt, parameters[0], parameters[0]*3,\n",
    "                                            step_size_up=int(len(train_dl)*int(parameters[6])*epochs*0.25))\n",
    "    # Fit:\n",
    "    score = train.fit(epochs, model, loss_func, scheduler, train_dl, valid_dl, train.accuracy, model_folder)\n",
    "    return np.array(score)"
   ]
  },
  {
   "cell_type": "markdown",
   "metadata": {},
   "source": [
    "We still need to specify the loss function, as well as how many epochs and iterations to run the BO for, plus a few other general fitting settings:"
   ]
  },
  {
   "cell_type": "code",
   "execution_count": 19,
   "metadata": {},
   "outputs": [],
   "source": [
    "plot = True\n",
    "loss_func = F.cross_entropy\n",
    "opt_func = f_opt_mnist\n",
    "cleanup_models_dir = True  # will delete models from model_folder before running\n",
    "model_folder = '../models/mnist/'\n",
    "epochs = 4\n",
    "max_iter = 2"
   ]
  },
  {
   "cell_type": "markdown",
   "metadata": {},
   "source": [
    "We create a folder to store the models in after each BO has finished - this means we don't have to potentially re-train a large NN again after finding the best parameters\n",
    "\n",
    "We are now ready to execute the main function call to `BayesianOptimization` and run for `max_iter` + 5 initial runs."
   ]
  },
  {
   "cell_type": "code",
   "execution_count": 20,
   "metadata": {},
   "outputs": [
    {
     "name": "stdout",
     "output_type": "stream",
     "text": [
      "Deleting models from: ../models/mnist/\n",
      "---------Starting Bay opt call 3 with parameters: ---------\n",
      "| lr: 0.13 | mom: 0.86 | num_lay: 2.00 | num_c: 8.00 | num_fc: 50.00 | dropout: 0.20 | bs: 128.00 |\n",
      "\n",
      "e: 1, trn loss: 0.2429, val loss: 0.0706, val met: 0.9784\n",
      "e: 2, trn loss: 0.0983, val loss: 0.0639, val met: 0.9798\n",
      "e: 3, trn loss: 0.0785, val loss: 0.0566, val met: 0.9831\n",
      "e: 4, trn loss: 0.0639, val loss: 0.0440, val met: 0.9860\n",
      "---------Starting Bay opt call 4 with parameters: ---------\n",
      "| lr: 0.21 | mom: 0.91 | num_lay: 3.00 | num_c: 8.00 | num_fc: 80.00 | dropout: 0.00 | bs: 128.00 |\n",
      "\n",
      "e: 1, trn loss: 0.2211, val loss: 0.1003, val met: 0.9719\n",
      "e: 2, trn loss: 0.0790, val loss: 0.0757, val met: 0.9778\n",
      "e: 3, trn loss: 0.0573, val loss: 0.0533, val met: 0.9841\n",
      "e: 4, trn loss: 0.0543, val loss: 0.0532, val met: 0.9845\n",
      "---------Starting Bay opt call 5 with parameters: ---------\n",
      "| lr: 0.23 | mom: 0.89 | num_lay: 1.00 | num_c: 12.00 | num_fc: 30.00 | dropout: 0.40 | bs: 160.00 |\n",
      "\n",
      "e: 1, trn loss: 0.9162, val loss: 0.1862, val met: 0.9479\n",
      "e: 2, trn loss: 0.3928, val loss: 0.1631, val met: 0.9537\n",
      "e: 3, trn loss: 0.3575, val loss: 0.1297, val met: 0.9638\n",
      "e: 4, trn loss: 0.3298, val loss: 0.1172, val met: 0.9670\n",
      "---------Starting Bay opt call 6 with parameters: ---------\n",
      "| lr: 0.23 | mom: 0.85 | num_lay: 3.00 | num_c: 20.00 | num_fc: 35.00 | dropout: 0.16 | bs: 64.00 |\n",
      "\n",
      "e: 1, trn loss: 1.4378, val loss: 1.4996, val met: 0.4437\n",
      "e: 2, trn loss: 2.2455, val loss: 2.3085, val met: 0.1135\n",
      "e: 3, trn loss: 2.3099, val loss: 2.3122, val met: 0.1028\n",
      "e: 4, trn loss: 2.3093, val loss: 2.3138, val met: 0.1135\n",
      "---------Starting Bay opt call 7 with parameters: ---------\n",
      "| lr: 0.18 | mom: 0.91 | num_lay: 2.00 | num_c: 16.00 | num_fc: 60.00 | dropout: 0.04 | bs: 128.00 |\n",
      "\n",
      "e: 1, trn loss: 0.1991, val loss: 0.0776, val met: 0.9768\n",
      "e: 2, trn loss: 0.0762, val loss: 0.0592, val met: 0.9823\n",
      "e: 3, trn loss: 0.0543, val loss: 0.0515, val met: 0.9849\n",
      "e: 4, trn loss: 0.0453, val loss: 0.0429, val met: 0.9862\n",
      "---------Starting Bay opt call 8 with parameters: ---------\n",
      "| lr: 0.05 | mom: 0.85 | num_lay: 3.00 | num_c: 16.00 | num_fc: 60.00 | dropout: 0.40 | bs: 128.00 |\n",
      "\n",
      "e: 1, trn loss: 0.2889, val loss: 0.0710, val met: 0.9764\n",
      "e: 2, trn loss: 0.0969, val loss: 0.0454, val met: 0.9858\n",
      "e: 3, trn loss: 0.0714, val loss: 0.0348, val met: 0.9877\n",
      "e: 4, trn loss: 0.0591, val loss: 0.0319, val met: 0.9906\n",
      "---------Starting Bay opt call 9 with parameters: ---------\n",
      "| lr: 0.05 | mom: 0.85 | num_lay: 3.00 | num_c: 8.00 | num_fc: 100.00 | dropout: 0.40 | bs: 192.00 |\n",
      "\n",
      "e: 1, trn loss: 0.3881, val loss: 0.0862, val met: 0.9736\n",
      "e: 2, trn loss: 0.1202, val loss: 0.0526, val met: 0.9832\n",
      "e: 3, trn loss: 0.0927, val loss: 0.0438, val met: 0.9843\n",
      "e: 4, trn loss: 0.0770, val loss: 0.0428, val met: 0.9854\n"
     ]
    }
   ],
   "source": [
    "utils.setup_folders(model_folder) # create folders if don't exist\n",
    "if cleanup_models_dir: utils.clean_folder(model_folder)  # delete models from previous runs\n",
    "# GPyOpt function call:\n",
    "optimizer = BayesianOptimization(f=opt_func,  # objective function\n",
    "                 domain=opt_BO,\n",
    "                 model_type='GP',\n",
    "                 acquisition_type='EI',\n",
    "                 normalize_Y=True,\n",
    "                 acquisition_jitter=0.05,  # positive value to make acquisition more explorative\n",
    "                 exact_feval=False,  # whether the outputs are exact\n",
    "                 maximize=False,\n",
    "                )\n",
    "optimizer.run_optimization(max_iter=max_iter)  # 5 initial exploratory points + max_iter"
   ]
  },
  {
   "cell_type": "code",
   "execution_count": 21,
   "metadata": {},
   "outputs": [
    {
     "data": {
      "image/png": "[encoded data removed]",
      "text/plain": [
       "<Figure size 864x360 with 2 Axes>"
      ]
     },
     "metadata": {
      "needs_background": "light"
     },
     "output_type": "display_data"
    },
    {
     "name": "stdout",
     "output_type": "stream",
     "text": [
      "--------------------------------------------------\n",
      "Optimal parameters from Bay opt are:\n",
      "| lr: 0.05 | mom: 0.85 | num_lay: 3.00 | num_c: 16.00 | num_fc: 60.00 | dropout: 0.40 | bs: 128.00 |\n",
      "\n"
     ]
    }
   ],
   "source": [
    "if plot:\n",
    "    plotting.plot_convergence(optimizer.X, optimizer.Y_best)\n",
    "print('--------------------------------------------------')\n",
    "print('Optimal parameters from Bay opt are:')\n",
    "utils.print_params(optimizer.x_opt, opt_BO)"
   ]
  },
  {
   "cell_type": "markdown",
   "metadata": {},
   "source": [
    "## Comment\n",
    "\n",
    "I might turn the below into a separate blog post time permitting\n",
    "\n",
    "#### Normal machine learning reporting of results\n",
    "Depending on randomness the above reaches a validation accuracy of around 99% in 4 epochs with just a few runs.\n",
    "\n",
    "#### What actually happened\n",
    "_\"It doesn't matter how beautiful your theory is, it doesn't matter how smart you are. If it doesn't agree with experiment, it's wrong.\"_\n",
    "\n",
    "_\"If science is to progress, what we need is the ability to experiment, honesty in reporting results—the results must be reported without somebody saying what they would like the results to have been—and finally—an important thing—the intelligence to interpret the results.\"_\n",
    "\n",
    "It would be misleading people to present the above as though it worked first time out the box. Many times training diverged on me almost as much as it converged. This was predominantly because I had a desire to leave the domains for most parameter settings reasonably wide so as not to constrain the search too much by embedding lots of prior knowledge (after all, MNIST is a pretty overfit dataset and many scripts are online showing over 99% accuracy). \n",
    "\n",
    "This is clearly a tension that existed in creating this example...Bayesian frameworks allow the expression of prior knowledge but by guiding things too much on MNIST I'm going to overestimate the usefulness of BO for a new data-set I care more and know less about. \n",
    "\n",
    "If training on bigger datasets is several hours then wasted trials or divergence is a big issue*. \n",
    "\n",
    "So where does this leave us?\n",
    "\n",
    "Well, we haven't talked about tuning the BO (via the GP kernel or exploration/exploitation trade-off) at all yet and it's here we get to a central criticism of BO, to quote [A Tutorial on Bayesian Optimization of Expensive Cost Functions, with Application to Active User Modeling and Hierarchical Reinforcement Learning](http://arxiv.org/abs/1012.2599):\n",
    "\n",
    "\"_A particular issue is that the design of the prior is absolutely critical to efficient Bayesian optimization. Gaussian processes are not always the best or easiest solution, but even when they are, great care must be taken in the design of the kernel. In many cases, though, little is known about the objective function, and, of course, it is expensive to sample from (or we wouldn’t need to use Bayesian optimization in the first place). The practical result is that in the absence of (expensive) data, either strong assumptions are made without certainty that they hold, or a weak prior must be used. It is also often unclear how to handle the trade-off between exploration and exploitation in the acquisition function. Too much exploration, and many iterations can go by without improvement. Too much exploitation leads to local maximization._\n",
    "\n",
    "_These problems are exacerbated as dimensionality is increased—more dimensions means more samples are required to cover the space, and more parameters and hyperparameters may need to be tuned, as well. In order to deal with this problem effectively, it may be necessary to do automatic feature selection, or assume independence and optimize each dimension individually._\"\n",
    "\n",
    "#### TLDR\n",
    "\n",
    "In it's current guise BO is unlikely to be something that provides a silver bullet for tuning NNs in the near future."
   ]
  },
  {
   "cell_type": "markdown",
   "metadata": {},
   "source": [
    "\\*One might counter than no trial is wasted as it's information for the GP to reduce it's uncertainty and this is definitely true, however, too many poor trials can leave the experimenter wondering if the experiment itself is flawed rather than just the individual trial settings."
   ]
  }
 ],
 "metadata": {
  "kernelspec": {
   "display_name": "Python 3",
   "language": "python",
   "name": "python3"
  },
  "language_info": {
   "codemirror_mode": {
    "name": "ipython",
    "version": 3
   },
   "file_extension": ".py",
   "mimetype": "text/x-python",
   "name": "python",
   "nbconvert_exporter": "python",
   "pygments_lexer": "ipython3",
   "version": "3.6.8"
  }
 },
 "nbformat": 4,
 "nbformat_minor": 2
}
