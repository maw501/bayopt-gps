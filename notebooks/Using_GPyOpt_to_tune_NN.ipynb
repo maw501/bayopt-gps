{
 "cells": [
  {
   "cell_type": "markdown",
   "metadata": {},
   "source": [
    "## Overview"
   ]
  },
  {
   "cell_type": "markdown",
   "metadata": {},
   "source": [
    "In this notebook we will walk through the MNIST example and show how to use GPyOpt to tune a NN in PyTorch"
   ]
  },
  {
   "cell_type": "code",
   "execution_count": 1,
   "metadata": {
    "scrolled": true
   },
   "outputs": [],
   "source": [
    "import sys\n",
    "sys.path.append(\"..\") # adds higher directory to python modules path\n",
    "from GPyOpt.methods import BayesianOptimization\n",
    "import GPyOpt\n",
    "import torch\n",
    "import torch.nn.functional as F\n",
    "from torch import nn\n",
    "from torch import optim\n",
    "import numpy as np\n",
    "from src import data_prep as dp\n",
    "from src import models as m\n",
    "from src import train as train\n",
    "from src import utils as utils\n",
    "dev = torch.device(\"cuda\") if torch.cuda.is_available() else torch.device(\"cpu\")"
   ]
  },
  {
   "cell_type": "markdown",
   "metadata": {},
   "source": [
    "## Prerequisites\n",
    "\n",
    "* Gaussian processes\n",
    "* Acquisition functions\n",
    "* Kernels\n",
    "* Neural networks"
   ]
  },
  {
   "cell_type": "markdown",
   "metadata": {},
   "source": [
    "## Parameters to optimize\n",
    "\n",
    "With GPyOpt we can basically optimize most types of parameters, including discrete and categorical. This allows great flexibility when fitting a NN though I can't find any strong (academic) references backing this up (particularly the categorical) and so I'm unsure how well it will work in practice.\n",
    "\n",
    "For MNIST, given it's a small and easy data-set and I'm using a GPU we will go for quite a large domain. Note that a simpler case is to fix the model architecture (e.g. use a pre-trained model) and just let GPyOpt tune your hyperparameters. \n",
    "\n",
    "Here we are going to let the BO actually vary the model's capacity via `num_lay`, `num_c` and `num_fc` which control the number of layers in the CNN, the number of channels (doubled at each layer by default) and the size of the fully connected layer at the end."
   ]
  },
  {
   "cell_type": "code",
   "execution_count": 2,
   "metadata": {},
   "outputs": [],
   "source": [
    "opt_BO = [{'name': 'learning_rate', 'type': 'continuous', 'domain': (0.05, 0.25)},\n",
    "          {'name': 'momentum', 'type': 'continuous', 'domain': (0.8, 0.9)},\n",
    "          {'name': 'num_lay', 'type': 'discrete', 'domain': range(1, 4)},\n",
    "          {'name': 'num_c', 'type': 'discrete', 'domain': range(8, 22, 2)},\n",
    "          {'name': 'num_fc', 'type': 'discrete', 'domain': range(10, 105, 5)},\n",
    "          {'name': 'dropout', 'type': 'discrete', 'domain': np.linspace(0, 0.4, 11)},\n",
    "          {'name': 'bs', 'type': 'discrete', 'domain': range(64, 288, 32)},\n",
    "          {'name': 'lr_decay', 'type': 'continuous', 'domain': (0.9, 1)}\n",
    "          ]"
   ]
  },
  {
   "cell_type": "markdown",
   "metadata": {},
   "source": [
    "## Model\n",
    "\n",
    "Let's have a look at a simple PyTorch CNN for MNIST. The model itself will be straightforward but we use a few neats aspects of PyTorch to allow us to vary the number of layers e.g. via `nn.ModuleList`\n",
    "\n",
    "We are using a `kernel_size=5` so with the default of `padding=0` and `stride=1` the feature map will reduce by 4 each time we call `ConvBnRelu`. We also opt for a convention of doubling the number of channels at each layer."
   ]
  },
  {
   "cell_type": "code",
   "execution_count": 3,
   "metadata": {},
   "outputs": [],
   "source": [
    "class ConvBnRelu(nn.Module):\n",
    "    \"\"\"Re-usable building block implementing 2d conv layer with batch-norm and relu activation\"\"\"\n",
    "    def __init__(self, in_channels, out_channels, p):\n",
    "        super().__init__()\n",
    "        self.conv = nn.Sequential(nn.Conv2d(in_channels, out_channels, kernel_size=5),  # reduces feature map by 4\n",
    "                                  nn.BatchNorm2d(out_channels),\n",
    "                                  nn.Dropout2d(p=p, inplace=True),\n",
    "                                  nn.ReLU(inplace=True)\n",
    "                                  )\n",
    "\n",
    "    def forward(self, x):\n",
    "        return self.conv(x)\n",
    "\n",
    "class Mnist_CNN(nn.Module):\n",
    "    \"\"\"Simple CNN for MNIST data of size 28x28\"\"\"\n",
    "    def __init__(self, n_lay=2, n_c=16, n_fc=25, dropout=0.1):\n",
    "        super().__init__()\n",
    "        self.name = 'mnist_cnn'\n",
    "        self.init_args = {'n_lay':n_lay, 'n_c':n_c, 'n_fc':n_fc}  # for loading back model with correct size\n",
    "        self.h, self.w = 28, 28\n",
    "        self.out_hw = self.h - (n_lay + 1) * 4\n",
    "        self.out_c = n_c * (2 ** n_lay)\n",
    "        self.convs = nn.ModuleList([ConvBnRelu(1, n_c, dropout)])\n",
    "        self.convs.extend([ConvBnRelu((2 ** (i - 1)) * n_c, (2 ** i) * n_c, dropout) for i in range(1, n_lay + 1)])\n",
    "        self.fc1 = nn.Linear(self.out_c * (self.out_hw ** 2), n_fc * 2)\n",
    "        self.fc2 = nn.Linear(n_fc * 2, 10)\n",
    "\n",
    "    def forward(self, x):\n",
    "        bs = x.shape[0]\n",
    "        x = x.view(-1, 1, self.h, self.w)\n",
    "        for i, l in enumerate(self.convs):\n",
    "            x = self.convs[i](x)\n",
    "        x = x.view(bs, -1)\n",
    "        x = F.relu(self.fc1(x))\n",
    "        x = self.fc2(x)\n",
    "        return F.log_softmax(x, dim=1)"
   ]
  },
  {
   "cell_type": "markdown",
   "metadata": {},
   "source": [
    "Let's instantiate a quick model and take a look:"
   ]
  },
  {
   "cell_type": "code",
   "execution_count": 4,
   "metadata": {},
   "outputs": [
    {
     "data": {
      "text/plain": [
       "Mnist_CNN(\n",
       "  (convs): ModuleList(\n",
       "    (0): ConvBnRelu(\n",
       "      (conv): Sequential(\n",
       "        (0): Conv2d(1, 16, kernel_size=(5, 5), stride=(1, 1))\n",
       "        (1): BatchNorm2d(16, eps=1e-05, momentum=0.1, affine=True, track_running_stats=True)\n",
       "        (2): Dropout2d(p=0.1, inplace)\n",
       "        (3): ReLU(inplace)\n",
       "      )\n",
       "    )\n",
       "    (1): ConvBnRelu(\n",
       "      (conv): Sequential(\n",
       "        (0): Conv2d(16, 32, kernel_size=(5, 5), stride=(1, 1))\n",
       "        (1): BatchNorm2d(32, eps=1e-05, momentum=0.1, affine=True, track_running_stats=True)\n",
       "        (2): Dropout2d(p=0.1, inplace)\n",
       "        (3): ReLU(inplace)\n",
       "      )\n",
       "    )\n",
       "    (2): ConvBnRelu(\n",
       "      (conv): Sequential(\n",
       "        (0): Conv2d(32, 64, kernel_size=(5, 5), stride=(1, 1))\n",
       "        (1): BatchNorm2d(64, eps=1e-05, momentum=0.1, affine=True, track_running_stats=True)\n",
       "        (2): Dropout2d(p=0.1, inplace)\n",
       "        (3): ReLU(inplace)\n",
       "      )\n",
       "    )\n",
       "  )\n",
       "  (fc1): Linear(in_features=16384, out_features=50, bias=True)\n",
       "  (fc2): Linear(in_features=50, out_features=10, bias=True)\n",
       ")"
      ]
     },
     "execution_count": 4,
     "metadata": {},
     "output_type": "execute_result"
    }
   ],
   "source": [
    "model = Mnist_CNN()\n",
    "model"
   ]
  },
  {
   "cell_type": "markdown",
   "metadata": {},
   "source": [
    "## Objective function\n",
    "\n",
    "It's actually fairly simple to get up and running with GPyOpt. The main function (and work) is to create an objective function that GPyOpt will either minimize or maximize.\n",
    "\n",
    "The function doesn't need to do your data-loading unless parameters you wish to vary are part of the data-loading process (e.g. batch size).\n",
    "\n",
    "Below we show a simple function that wraps up the data-loading and model fit. The WrappedDataLoader is just a simple class which applies a (pre-processing) function to each mini-batch as it is yielded by PyTorch.\n",
    "\n",
    "We then instantiate and fit the model, passing in the parameters we wish to optimize over."
   ]
  },
  {
   "cell_type": "code",
   "execution_count": 5,
   "metadata": {},
   "outputs": [],
   "source": [
    "@utils.call_counter\n",
    "def f_opt_mnist(parameters):\n",
    "    parameters = parameters[0]  # np.ndarray passed in is nested\n",
    "    print(f'---------Starting Bay opt call {f_opt_mnist.calls} with parameters: ---------')\n",
    "    utils.print_params(parameters, opt_BO)\n",
    "    # Data loading:\n",
    "    train_ds, valid_ds = dp.download_mnist()\n",
    "    train_dl, valid_dl = dp.get_data(train_ds, valid_ds, int(parameters[6]))\n",
    "    train_dl, valid_dl = dp.WrappedDataLoader(train_dl, dp.preprocess), dp.WrappedDataLoader(valid_dl, dp.preprocess)\n",
    "    # Model definition:\n",
    "    model = m.Mnist_CNN(n_lay=int(parameters[2]),\n",
    "                        n_c=int(parameters[3]),\n",
    "                        n_fc=int(parameters[4]),\n",
    "                        dropout=parameters[5])\n",
    "    model.to(dev)\n",
    "    # Optimizer:\n",
    "    opt = optim.SGD(model.parameters(), lr=parameters[0], momentum=parameters[1])\n",
    "    scheduler = optim.lr_scheduler.ExponentialLR(opt, gamma=0.9)\n",
    "    # Fit:\n",
    "    score, metric = train.fit(epochs, model, loss_func, scheduler, train_dl, valid_dl, train.accuracy)\n",
    "    return np.array(score)"
   ]
  },
  {
   "cell_type": "markdown",
   "metadata": {},
   "source": [
    "General fitting settings:"
   ]
  },
  {
   "cell_type": "code",
   "execution_count": 6,
   "metadata": {},
   "outputs": [],
   "source": [
    "plot = True\n",
    "loss_func = F.nll_loss\n",
    "epochs = 2\n",
    "max_iter = 2\n",
    "opt_func = f_opt_mnist\n",
    "cleanup_models_dir = True"
   ]
  },
  {
   "cell_type": "code",
   "execution_count": 7,
   "metadata": {},
   "outputs": [
    {
     "name": "stdout",
     "output_type": "stream",
     "text": [
      "Deleting models from: models/\n",
      "---------Starting Bay opt call 1 with parameters: ---------\n",
      "| learning_rate: 0.0798 | momentum: 0.8431 | num_lay: 1.0000 | num_c: 16.0000 | num_fc: 70.0000 | dropout: 0.0000 | bs: 96.0000 | lr_decay: 0.9977 |\n",
      "epoch: 0, val loss: 0.0658, val acc: 0.9811\n",
      "epoch: 1, val loss: 0.0637, val acc: 0.9828\n",
      "---------Starting Bay opt call 2 with parameters: ---------\n",
      "| learning_rate: 0.0591 | momentum: 0.8380 | num_lay: 1.0000 | num_c: 12.0000 | num_fc: 15.0000 | dropout: 0.2000 | bs: 128.0000 | lr_decay: 0.9256 |\n",
      "epoch: 0, val loss: 0.0756, val acc: 0.9793\n",
      "epoch: 1, val loss: 0.0587, val acc: 0.9836\n",
      "---------Starting Bay opt call 3 with parameters: ---------\n",
      "| learning_rate: 0.2243 | momentum: 0.8503 | num_lay: 1.0000 | num_c: 8.0000 | num_fc: 95.0000 | dropout: 0.0000 | bs: 160.0000 | lr_decay: 0.9393 |\n",
      "epoch: 0, val loss: 0.0907, val acc: 0.9736\n",
      "epoch: 1, val loss: 0.0761, val acc: 0.9800\n",
      "---------Starting Bay opt call 4 with parameters: ---------\n",
      "| learning_rate: 0.2093 | momentum: 0.8061 | num_lay: 1.0000 | num_c: 12.0000 | num_fc: 15.0000 | dropout: 0.2800 | bs: 96.0000 | lr_decay: 0.9201 |\n",
      "epoch: 0, val loss: 0.1046, val acc: 0.9721\n",
      "epoch: 1, val loss: 0.0868, val acc: 0.9750\n",
      "---------Starting Bay opt call 5 with parameters: ---------\n",
      "| learning_rate: 0.1771 | momentum: 0.8713 | num_lay: 2.0000 | num_c: 20.0000 | num_fc: 25.0000 | dropout: 0.3600 | bs: 224.0000 | lr_decay: 0.9225 |\n",
      "epoch: 0, val loss: 0.1274, val acc: 0.9649\n",
      "epoch: 1, val loss: 0.0952, val acc: 0.9699\n",
      "---------Starting Bay opt call 6 with parameters: ---------\n",
      "| learning_rate: 0.1227 | momentum: 0.8472 | num_lay: 1.0000 | num_c: 12.0000 | num_fc: 15.0000 | dropout: 0.2000 | bs: 128.0000 | lr_decay: 0.9331 |\n",
      "epoch: 0, val loss: 0.0915, val acc: 0.9748\n",
      "epoch: 1, val loss: 0.0710, val acc: 0.9819\n",
      "---------Starting Bay opt call 7 with parameters: ---------\n",
      "| learning_rate: 0.0500 | momentum: 0.8081 | num_lay: 1.0000 | num_c: 12.0000 | num_fc: 15.0000 | dropout: 0.2000 | bs: 128.0000 | lr_decay: 0.9011 |\n",
      "epoch: 0, val loss: 0.0735, val acc: 0.9782\n",
      "epoch: 1, val loss: 0.0636, val acc: 0.9821\n"
     ]
    },
    {
     "data": {
      "image/png": "[encoded data removed]",
      "text/plain": [
       "<Figure size 720x360 with 2 Axes>"
      ]
     },
     "metadata": {
      "needs_background": "light"
     },
     "output_type": "display_data"
    },
    {
     "name": "stdout",
     "output_type": "stream",
     "text": [
      "--------------------------------------------------\n",
      "Optimal parameters from Bay opt are:\n",
      "| learning_rate: 0.0591 | momentum: 0.8380 | num_lay: 1.0000 | num_c: 12.0000 | num_fc: 15.0000 | dropout: 0.2000 | bs: 128.0000 | lr_decay: 0.9256 |\n"
     ]
    }
   ],
   "source": [
    "utils.setup_folders()\n",
    "if cleanup_models_dir: utils.clean_folder('models/')  # delete models from previous runs\n",
    "# GPyOpt function call:\n",
    "optimizer = BayesianOptimization(f=opt_func,  # objective function\n",
    "                 domain=opt_BO,\n",
    "                 model_type='GP',\n",
    "                 acquisition_type='EI',\n",
    "                 normalize_Y=True,\n",
    "                 acquisition_jitter=0.05,  # positive value to make acquisition more explorative\n",
    "                 exact_feval=True,  # whether the outputs are exact\n",
    "                 maximize=False,\n",
    "                )\n",
    "optimizer.run_optimization(max_iter=max_iter)  # 5 initial exploratory points + max_iter\n",
    "# Post-run printing and plotting:\n",
    "if plot:\n",
    "    optimizer.plot_acquisition()  # plots y normalized (i.e. deviates) only in 1d or 2d\n",
    "    optimizer.plot_convergence()\n",
    "print('--------------------------------------------------')\n",
    "print('Optimal parameters from Bay opt are:')\n",
    "utils.print_params(optimizer.x_opt, opt_BO)"
   ]
  },
  {
   "cell_type": "code",
   "execution_count": null,
   "metadata": {},
   "outputs": [],
   "source": []
  },
  {
   "cell_type": "code",
   "execution_count": null,
   "metadata": {},
   "outputs": [],
   "source": []
  }
 ],
 "metadata": {
  "kernelspec": {
   "display_name": "Python 3",
   "language": "python",
   "name": "python3"
  },
  "language_info": {
   "codemirror_mode": {
    "name": "ipython",
    "version": 3
   },
   "file_extension": ".py",
   "mimetype": "text/x-python",
   "name": "python",
   "nbconvert_exporter": "python",
   "pygments_lexer": "ipython3",
   "version": "3.6.8"
  }
 },
 "nbformat": 4,
 "nbformat_minor": 2
}
