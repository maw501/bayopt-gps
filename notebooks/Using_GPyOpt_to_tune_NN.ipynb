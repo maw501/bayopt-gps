{
 "cells": [
  {
   "cell_type": "markdown",
   "metadata": {},
   "source": [
    "## Overview"
   ]
  },
  {
   "cell_type": "markdown",
   "metadata": {},
   "source": [
    "In this notebook we will walk through the MNIST example and show how to use GPyOpt to tune a NN in PyTorch."
   ]
  },
  {
   "cell_type": "code",
   "execution_count": 1,
   "metadata": {
    "scrolled": true
   },
   "outputs": [
    {
     "name": "stdout",
     "output_type": "stream",
     "text": [
      "GeForce GTX 1080 Ti\n"
     ]
    }
   ],
   "source": [
    "import sys\n",
    "sys.path.append(\"..\") # adds higher directory to python modules path\n",
    "from GPyOpt.methods import BayesianOptimization\n",
    "import GPyOpt\n",
    "import torch\n",
    "import torch.nn.functional as F\n",
    "import torch.nn as nn\n",
    "from torch import optim\n",
    "import numpy as np\n",
    "from src import data_prep as dp\n",
    "from src import models as m\n",
    "from src import train as train\n",
    "from src import utils as utils\n",
    "from src import plotting as plotting\n",
    "dev = torch.device(\"cuda\") if torch.cuda.is_available() else torch.device(\"cpu\")\n",
    "print(torch.cuda.get_device_name(torch.cuda.current_device()))"
   ]
  },
  {
   "cell_type": "markdown",
   "metadata": {},
   "source": [
    "## Prerequisites\n",
    "\n",
    "The aim of this notebook is to provide a practical example of how to use GPyOpt for tuning a NN - not to motivate and introduce background concepts. However, as a minimum, it is helpful to be familiar with the following areas:\n",
    "\n",
    "* Gaussian processes\n",
    "* Acquisition functions\n",
    "* Kernels\n",
    "* Neural networks"
   ]
  },
  {
   "cell_type": "markdown",
   "metadata": {},
   "source": [
    "## Parameters to optimize\n",
    "\n",
    "With GPyOpt we can basically optimize most types of parameters, including discrete and categorical. This allows great flexibility when fitting a NN though I can't find any strong references backing this up (particularly the categorical) and so I'm unsure how well it will work in practice.\n",
    "\n",
    "For MNIST, given it's a small and easy data-set and I'm using a GPU we will go for quite a large domain. A simpler case would be to fix the model architecture (e.g. use a pre-trained model) and just let GPyOpt tune the hyperparameters. It's worth noting that if we did grid search on 8 parameters (as we are below) and each of those parameters could take on just 4 values we'd have $4^8$ possible values to try. \n",
    "\n",
    "Here we are going to let the BO actually vary the model's capacity via `num_lay`, `num_c` and `num_fc` which control the number of layers in the CNN, the number of channels (doubled at each layer by default) and the size of the fully connected layer at the end.\n",
    "\n",
    "Below is an example of how we specify this to GPyOpt."
   ]
  },
  {
   "cell_type": "code",
   "execution_count": 2,
   "metadata": {},
   "outputs": [],
   "source": [
    "opt_BO = [{'name': 'lr', 'type': 'continuous', 'domain': (0.05, 0.25)},\n",
    "          {'name': 'mom', 'type': 'continuous', 'domain': (0.8, 0.9)},\n",
    "          {'name': 'num_lay', 'type': 'discrete', 'domain': range(1, 4)},\n",
    "          {'name': 'num_c', 'type': 'discrete', 'domain': range(8, 22, 2)},\n",
    "          {'name': 'num_fc', 'type': 'discrete', 'domain': range(10, 105, 5)},\n",
    "          {'name': 'dropout', 'type': 'discrete', 'domain': np.linspace(0, 0.4, 11)},\n",
    "          {'name': 'bs', 'type': 'discrete', 'domain': range(64, 288, 32)},\n",
    "          {'name': 'lr_decay', 'type': 'continuous', 'domain': (0.9, 1)}\n",
    "          ]"
   ]
  },
  {
   "cell_type": "markdown",
   "metadata": {},
   "source": [
    "## Model\n",
    "\n",
    "Let's have a look at a simple CNN for MNIST. The model itself will be straightforward but we use a few neats aspects of PyTorch to allow us to vary the number of layers e.g. via `nn.ModuleList`\n",
    "\n",
    "We are using a `kernel_size=5` so with the default values of `padding=0` and `stride=1` the feature map will reduce by 4 each time we call `ConvBnRelu`. We also opt for a convention of doubling the number of channels at each layer."
   ]
  },
  {
   "cell_type": "code",
   "execution_count": 3,
   "metadata": {},
   "outputs": [],
   "source": [
    "class ConvBnRelu(nn.Module):\n",
    "    \"\"\"Re-usable building block implementing 2d conv layer with batch-norm and relu activation\"\"\"\n",
    "    def __init__(self, in_channels, out_channels, p):\n",
    "        super().__init__()\n",
    "        self.conv = nn.Sequential(nn.Conv2d(in_channels, out_channels, kernel_size=5),  # reduces feature map by 4\n",
    "                                  nn.BatchNorm2d(out_channels),\n",
    "                                  nn.Dropout2d(p=p, inplace=True),\n",
    "                                  nn.ReLU(inplace=True)\n",
    "                                  )\n",
    "\n",
    "    def forward(self, x):\n",
    "        return self.conv(x)\n",
    "\n",
    "class FlexCNN(nn.Module):\n",
    "    \"\"\"Simple CNN with flexible capacity\"\"\"\n",
    "    def __init__(self, n_lay=2, n_c=16, n_fc=25, dropout=0.1, hw=(28,28)):\n",
    "        super().__init__()\n",
    "        self.name = 'flex_cnn'\n",
    "        self.init_args = {'n_lay':n_lay, 'n_c':n_c, 'n_fc':n_fc}  # for loading back model with correct size\n",
    "        self.h, self.w = hw\n",
    "        self.out_hw = self.h - (n_lay + 1) * 4\n",
    "        self.out_c = n_c * (2 ** n_lay)\n",
    "        self.convs = nn.ModuleList([ConvBnRelu(1, n_c, dropout)])\n",
    "        self.convs.extend([ConvBnRelu((2 ** (i - 1)) * n_c, (2 ** i) * n_c, dropout) for i in range(1, n_lay + 1)])\n",
    "        self.fc1 = nn.Linear(self.out_c * (self.out_hw ** 2), n_fc * 2)\n",
    "        self.fc2 = nn.Linear(n_fc * 2, 10)\n",
    "\n",
    "    def forward(self, x):\n",
    "        bs = x.shape[0]\n",
    "        x = x.view(-1, 1, self.h, self.w)\n",
    "        for i, l in enumerate(self.convs):\n",
    "            x = self.convs[i](x)\n",
    "        x = x.view(bs, -1)\n",
    "        x = F.relu(self.fc1(x))\n",
    "        x = self.fc2(x)\n",
    "        return x"
   ]
  },
  {
   "cell_type": "markdown",
   "metadata": {},
   "source": [
    "Let's instantiate the model and take a look:"
   ]
  },
  {
   "cell_type": "code",
   "execution_count": 4,
   "metadata": {},
   "outputs": [
    {
     "data": {
      "text/plain": [
       "FlexCNN(\n",
       "  (convs): ModuleList(\n",
       "    (0): ConvBnRelu(\n",
       "      (conv): Sequential(\n",
       "        (0): Conv2d(1, 16, kernel_size=(5, 5), stride=(1, 1))\n",
       "        (1): BatchNorm2d(16, eps=1e-05, momentum=0.1, affine=True, track_running_stats=True)\n",
       "        (2): Dropout2d(p=0.1, inplace)\n",
       "        (3): ReLU(inplace)\n",
       "      )\n",
       "    )\n",
       "    (1): ConvBnRelu(\n",
       "      (conv): Sequential(\n",
       "        (0): Conv2d(16, 32, kernel_size=(5, 5), stride=(1, 1))\n",
       "        (1): BatchNorm2d(32, eps=1e-05, momentum=0.1, affine=True, track_running_stats=True)\n",
       "        (2): Dropout2d(p=0.1, inplace)\n",
       "        (3): ReLU(inplace)\n",
       "      )\n",
       "    )\n",
       "    (2): ConvBnRelu(\n",
       "      (conv): Sequential(\n",
       "        (0): Conv2d(32, 64, kernel_size=(5, 5), stride=(1, 1))\n",
       "        (1): BatchNorm2d(64, eps=1e-05, momentum=0.1, affine=True, track_running_stats=True)\n",
       "        (2): Dropout2d(p=0.1, inplace)\n",
       "        (3): ReLU(inplace)\n",
       "      )\n",
       "    )\n",
       "  )\n",
       "  (fc1): Linear(in_features=16384, out_features=50, bias=True)\n",
       "  (fc2): Linear(in_features=50, out_features=10, bias=True)\n",
       ")"
      ]
     },
     "execution_count": 4,
     "metadata": {},
     "output_type": "execute_result"
    }
   ],
   "source": [
    "model = m.FlexCNN()\n",
    "model"
   ]
  },
  {
   "cell_type": "markdown",
   "metadata": {},
   "source": [
    "## Objective function\n",
    "\n",
    "It's actually fairly simple to get up and running with GPyOpt. The main function (and work) is to create an objective function that GPyOpt will either minimize or maximize.\n",
    "\n",
    "The function doesn't need to do the data-loading unless parameters we wish to vary are part of the data-loading process (e.g. batch size).\n",
    "\n",
    "Below we show a simple function that wraps up the data-loading and model fit. `WrapDL` is a simple class which applies a (pre-processing) function to each mini-batch as it is yielded by PyTorch.\n",
    "\n",
    "We then instantiate and fit the model, passing in the parameters we wish to optimize over. The `train.fit` function takes a model and fits it for a given number of epochs."
   ]
  },
  {
   "cell_type": "code",
   "execution_count": 5,
   "metadata": {},
   "outputs": [],
   "source": [
    "@utils.call_counter\n",
    "def f_opt_mnist(parameters):\n",
    "    parameters = parameters[0]  # np.ndarray passed in is nested\n",
    "    print(f'\\n ---------Starting Bay opt call {f_opt_mnist.calls} with parameters: ---------')\n",
    "    utils.print_params(parameters, opt_BO)\n",
    "    # Data loading:\n",
    "    train_ds, valid_ds = dp.download_mnist('../data')\n",
    "    train_dl, valid_dl = dp.get_data(train_ds, valid_ds, int(parameters[6]))\n",
    "    train_dl, valid_dl = dp.WrapDL(train_dl, dp.preprocess), dp.WrapDL(valid_dl, dp.preprocess)\n",
    "    # Model instantiation:\n",
    "    model = m.FlexCNN(n_lay=int(parameters[2]),\n",
    "                        n_c=int(parameters[3]),\n",
    "                        n_fc=int(parameters[4]),\n",
    "                        dropout=parameters[5])\n",
    "    model.to(dev)\n",
    "    # Optimizer:\n",
    "    opt = optim.SGD(model.parameters(), lr=parameters[0], momentum=parameters[1])\n",
    "    scheduler = optim.lr_scheduler.ExponentialLR(opt, gamma=0.9)\n",
    "    # Call fit function:\n",
    "    score = train.fit(epochs, model, loss_func, scheduler, train_dl, valid_dl, train.accuracy, model_folder)\n",
    "    return np.array(score)"
   ]
  },
  {
   "cell_type": "markdown",
   "metadata": {},
   "source": [
    "We still need to specify the loss function, as well as how many epochs and iterations to run the BO for, plus a few other general fitting settings:"
   ]
  },
  {
   "cell_type": "code",
   "execution_count": 6,
   "metadata": {},
   "outputs": [],
   "source": [
    "plot = True\n",
    "loss_func = F.cross_entropy\n",
    "epochs = 4\n",
    "max_iter = 2\n",
    "opt_func = f_opt_mnist\n",
    "model_folder = '../models/mnist/'\n",
    "cleanup_models_dir = True  # will delete models from model_folder before running"
   ]
  },
  {
   "cell_type": "markdown",
   "metadata": {},
   "source": [
    "We create a folder to store the models in after each BO has finished - this means we don't have to potentially re-train a large NN again after finding the best parameters\n",
    "\n",
    "We are now ready to execute the main function call to `BayesianOptimization` and run for `max_iter` + 5 initial runs."
   ]
  },
  {
   "cell_type": "code",
   "execution_count": 7,
   "metadata": {},
   "outputs": [
    {
     "name": "stdout",
     "output_type": "stream",
     "text": [
      "Deleting models from: ../models/mnist/\n",
      "\n",
      " ---------Starting Bay opt call 1 with parameters: ---------\n",
      "| lr: 0.22 | mom: 0.82 | num_lay: 1.00 | num_c: 8.00 | num_fc: 50.00 | dropout: 0.16 | bs: 64.00 | lr_decay: 0.94 |\n",
      "\n",
      "e: 1, trn loss: 0.3618, val loss: 0.1605, val met: 0.9512\n",
      "e: 2, trn loss: 0.2198, val loss: 0.1243, val met: 0.9679\n",
      "e: 3, trn loss: 0.1484, val loss: 0.0992, val met: 0.9705\n",
      "e: 4, trn loss: 0.1321, val loss: 0.0882, val met: 0.9745\n",
      "\n",
      " ---------Starting Bay opt call 2 with parameters: ---------\n",
      "| lr: 0.09 | mom: 0.86 | num_lay: 3.00 | num_c: 8.00 | num_fc: 60.00 | dropout: 0.36 | bs: 128.00 | lr_decay: 0.96 |\n",
      "\n",
      "e: 1, trn loss: 0.3254, val loss: 0.0792, val met: 0.9766\n",
      "e: 2, trn loss: 0.1170, val loss: 0.0746, val met: 0.9796\n",
      "e: 3, trn loss: 0.0832, val loss: 0.0623, val met: 0.9835\n",
      "e: 4, trn loss: 0.0655, val loss: 0.0486, val met: 0.9866\n",
      "\n",
      " ---------Starting Bay opt call 3 with parameters: ---------\n",
      "| lr: 0.10 | mom: 0.80 | num_lay: 1.00 | num_c: 14.00 | num_fc: 60.00 | dropout: 0.28 | bs: 192.00 | lr_decay: 0.95 |\n",
      "\n",
      "e: 1, trn loss: 0.2523, val loss: 0.0712, val met: 0.9800\n",
      "e: 2, trn loss: 0.0828, val loss: 0.0571, val met: 0.9835\n",
      "e: 3, trn loss: 0.0574, val loss: 0.0536, val met: 0.9858\n",
      "e: 4, trn loss: 0.0455, val loss: 0.0504, val met: 0.9867\n",
      "\n",
      " ---------Starting Bay opt call 4 with parameters: ---------\n",
      "| lr: 0.05 | mom: 0.86 | num_lay: 2.00 | num_c: 16.00 | num_fc: 95.00 | dropout: 0.12 | bs: 128.00 | lr_decay: 0.95 |\n",
      "\n",
      "e: 1, trn loss: 0.1709, val loss: 0.0575, val met: 0.9843\n",
      "e: 2, trn loss: 0.0551, val loss: 0.0408, val met: 0.9883\n",
      "e: 3, trn loss: 0.0353, val loss: 0.0339, val met: 0.9900\n",
      "e: 4, trn loss: 0.0250, val loss: 0.0400, val met: 0.9886\n",
      "\n",
      " ---------Starting Bay opt call 5 with parameters: ---------\n",
      "| lr: 0.17 | mom: 0.85 | num_lay: 2.00 | num_c: 20.00 | num_fc: 25.00 | dropout: 0.28 | bs: 64.00 | lr_decay: 0.99 |\n",
      "\n",
      "e: 1, trn loss: 0.4406, val loss: 0.2051, val met: 0.9415\n",
      "e: 2, trn loss: 0.2391, val loss: 0.1278, val met: 0.9656\n",
      "e: 3, trn loss: 0.1820, val loss: 0.1072, val met: 0.9696\n",
      "e: 4, trn loss: 0.1726, val loss: 0.0853, val met: 0.9755\n",
      "\n",
      " ---------Starting Bay opt call 6 with parameters: ---------\n",
      "| lr: 0.09 | mom: 0.87 | num_lay: 2.00 | num_c: 14.00 | num_fc: 95.00 | dropout: 0.12 | bs: 128.00 | lr_decay: 0.94 |\n",
      "\n",
      "e: 1, trn loss: 0.1771, val loss: 0.0529, val met: 0.9852\n",
      "e: 2, trn loss: 0.0566, val loss: 0.0457, val met: 0.9866\n",
      "e: 3, trn loss: 0.0374, val loss: 0.0348, val met: 0.9908\n",
      "e: 4, trn loss: 0.0255, val loss: 0.0356, val met: 0.9902\n",
      "\n",
      " ---------Starting Bay opt call 7 with parameters: ---------\n",
      "| lr: 0.25 | mom: 0.90 | num_lay: 3.00 | num_c: 8.00 | num_fc: 100.00 | dropout: 0.00 | bs: 160.00 | lr_decay: 0.91 |\n",
      "\n",
      "e: 1, trn loss: 0.2791, val loss: 0.1515, val met: 0.9582\n",
      "e: 2, trn loss: 0.0870, val loss: 0.1050, val met: 0.9699\n",
      "e: 3, trn loss: 0.0626, val loss: 0.0662, val met: 0.9823\n",
      "e: 4, trn loss: 0.0408, val loss: 0.0641, val met: 0.9824\n"
     ]
    }
   ],
   "source": [
    "utils.setup_folders(model_folder) # create folders if don't exist\n",
    "if cleanup_models_dir: utils.clean_folder(model_folder)  # delete models from previous runs\n",
    "# GPyOpt function call:\n",
    "optimizer = BayesianOptimization(f=opt_func,  # objective function\n",
    "                 domain=opt_BO,\n",
    "                 model_type='GP',\n",
    "                 acquisition_type='EI',\n",
    "                 normalize_Y=True,\n",
    "                 acquisition_jitter=0.05,  # positive value to make acquisition more explorative\n",
    "                 exact_feval=False,  # whether the outputs are exact\n",
    "                 maximize=False,\n",
    "                )\n",
    "optimizer.run_optimization(max_iter=max_iter)  # 5 initial exploratory points + max_iter"
   ]
  },
  {
   "cell_type": "code",
   "execution_count": 8,
   "metadata": {},
   "outputs": [
    {
     "data": {
      "image/png": "[encoded data removed]",
      "text/plain": [
       "<Figure size 864x360 with 2 Axes>"
      ]
     },
     "metadata": {
      "needs_background": "light"
     },
     "output_type": "display_data"
    },
    {
     "name": "stdout",
     "output_type": "stream",
     "text": [
      "--------------------------------------------------\n",
      "Optimal parameters from Bay opt are:\n",
      "| lr: 0.09 | mom: 0.87 | num_lay: 2.00 | num_c: 14.00 | num_fc: 95.00 | dropout: 0.12 | bs: 128.00 | lr_decay: 0.94 |\n",
      "\n"
     ]
    }
   ],
   "source": [
    "if plot:\n",
    "    plotting.plot_convergence(optimizer.X, optimizer.Y_best)\n",
    "print('--------------------------------------------------')\n",
    "print('Optimal parameters from Bay opt are:')\n",
    "utils.print_params(optimizer.x_opt, opt_BO)"
   ]
  },
  {
   "cell_type": "markdown",
   "metadata": {},
   "source": [
    "## Comment\n",
    "\n",
    "Depending on randomness the above reaches a validation accuracy of around 99% in 4 epochs with just a few runs."
   ]
  }
 ],
 "metadata": {
  "kernelspec": {
   "display_name": "Python 3",
   "language": "python",
   "name": "python3"
  },
  "language_info": {
   "codemirror_mode": {
    "name": "ipython",
    "version": 3
   },
   "file_extension": ".py",
   "mimetype": "text/x-python",
   "name": "python",
   "nbconvert_exporter": "python",
   "pygments_lexer": "ipython3",
   "version": "3.6.8"
  }
 },
 "nbformat": 4,
 "nbformat_minor": 2
}
